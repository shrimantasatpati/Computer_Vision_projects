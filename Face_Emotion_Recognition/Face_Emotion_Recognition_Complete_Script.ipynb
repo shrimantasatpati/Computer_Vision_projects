{
	"cells": [
		{
			"cell_type": "code",
			"execution_count": 4,
			"metadata": {
				"id": "ZucyWXfvnmfp",
				"runTime": {
					"start": 1681208200904,
					"end": 1681208201254,
					"hasRun": true,
					"output_error": false,
					"time": 0.4
				}
			},
			"outputs": [],
			"source": [
				"import sys"
			]
		},
		{
			"cell_type": "code",
			"execution_count": 5,
			"metadata": {
				"id": "38cs687Snwpw",
				"runTime": {
					"start": 1681208201254,
					"end": 1681208201258,
					"hasRun": true,
					"output_error": false,
					"time": 0
				}
			},
			"outputs": [],
			"source": [
				"import os"
			]
		},
		{
			"cell_type": "code",
			"execution_count": 6,
			"metadata": {
				"id": "PbBMmxaUnxLh",
				"runTime": {
					"start": 1681208201258,
					"end": 1681208201855,
					"hasRun": true,
					"output_error": false,
					"time": 0.6
				}
			},
			"outputs": [],
			"source": [
				"#Pandas Library is used for analyzing, cleaning, exploring and manipulating data\n",
				"import pandas as pd"
			]
		},
		{
			"cell_type": "code",
			"execution_count": 7,
			"metadata": {
				"id": "FqT9hWVIn5cK",
				"runTime": {
					"start": 1681208201855,
					"end": 1681208201862,
					"hasRun": true,
					"output_error": false,
					"time": 0
				}
			},
			"outputs": [],
			"source": [
				"#Numpy library is used for working with arrays\n",
				"import numpy as np"
			]
		},
		{
			"cell_type": "code",
			"execution_count": 8,
			"metadata": {
				"id": "JosBzgp5n6aT",
				"runTime": {
					"start": 1681208201863,
					"end": 1681208201866,
					"hasRun": true,
					"output_error": false,
					"time": 0
				}
			},
			"outputs": [],
			"source": [
				"#For visualizations , matplotlib library is used\n",
				"import matplotlib.pyplot as plt"
			]
		},
		{
			"cell_type": "code",
			"execution_count": 9,
			"metadata": {
				"id": "Z5J_1Le4n_q7",
				"runTime": {
					"start": 1681208201866,
					"end": 1681208201872,
					"hasRun": true,
					"output_error": false,
					"time": 0
				}
			},
			"outputs": [],
			"source": [
				"#Sequential and Functional are two ways to build keras models, Sequential Model is simplist type of model, a linear stock of layers\n",
				"# In sequential, you can only stack one layer after another\n",
				"# In functional model, you can connect a layer to literally any other layer \n",
				"from tensorflow.keras.models import Sequential"
			]
		},
		{
			"cell_type": "code",
			"execution_count": 67,
			"metadata": {
				"id": "GfBW05EfoFSU",
				"runTime": {
					"start": 1681208201872,
					"end": 1681208201878,
					"hasRun": true,
					"output_error": false,
					"time": 0
				}
			},
			"outputs": [],
			"source": "# A 2D Convolutional layer applies sliding convolution filters to 2D input. The layer convolves the input by moving\n#the filters along the input horizontally and vertically, computing the dot product of the weughts and input\n#The final layers in a CNN are fully (densely) connected layers. In Keras, these layers are created using the Dense()class.\n#In Keras, a fully connected layer is referred to as a Dense layer.\n\n# There are two types of pooling operations: Max pooling and Average pooling. Here, we use Max pooling.\n\n#Each pooling layer in a CNN is created using the MaxPooling2D()class that simply performs the Max pooling operation in a two-#dimensional space.\n\n#Batch Norm is a normalization technique done between the layers of a Neural Network instead of in the raw data. It is done along mini-#batches instead of the full data set. It serves to speed up training and use higher learning rates, making learning easier.\n\n#dropout reduces the complexity of a network and prevents overfitting, it is considered a regularization method\n\n#Flatten layer is used to make the multidimensional input one-dimensional, commonly used in the transition from the convolution layer to the full connected layer. \n\nfrom tensorflow.keras.layers import Conv2D, Dense, MaxPooling2D, BatchNormalization,  Dropout, Flatten"
		},
		{
			"cell_type": "code",
			"execution_count": 11,
			"metadata": {
				"id": "jmPIwDR0oOhB",
				"runTime": {
					"start": 1681208201878,
					"end": 1681208201896,
					"hasRun": true,
					"output_error": false,
					"time": 0
				}
			},
			"outputs": [],
			"source": [
				"#categorical_crossentropy: Used as a loss function for multi-class classification model where there are two or more output labels.\n",
				"from keras.losses import categorical_crossentropy"
			]
		},
		{
			"cell_type": "code",
			"execution_count": 12,
			"metadata": {
				"id": "gE41gLE7oTqm",
				"runTime": {
					"start": 1681208201897,
					"end": 1681208201902,
					"hasRun": true,
					"output_error": false,
					"time": 0
				}
			},
			"outputs": [],
			"source": [
				"from keras.optimizers import Adam"
			]
		},
		{
			"cell_type": "code",
			"execution_count": 14,
			"metadata": {
				"id": "MaO1uFiBobko",
				"runTime": {
					"start": 1681208201902,
					"end": 1681208201907,
					"hasRun": true,
					"output_error": false,
					"time": 0
				}
			},
			"outputs": [],
			"source": "#Converts a class vector (integers) to binary class matrix\nfrom keras.utils import np_utils"
		},
		{
			"cell_type": "markdown",
			"metadata": {
				"id": "jF4bNmaIpIFz"
			},
			"source": [
				"#**Download the dataset from the Drive**"
			]
		},
		{
			"cell_type": "code",
			"execution_count": 15,
			"metadata": {
				"colab": {
					"base_uri": "https://localhost:8080/"
				},
				"id": "p580wm2koeN_",
				"outputId": "61b7b670-b822-42d8-ea88-d88fda81da11",
				"runTime": {
					"start": 1681208201907,
					"end": 1681208204748,
					"hasRun": true,
					"output_error": false,
					"time": 2.8
				}
			},
			"outputs": [
				{
					"name": "stdout",
					"output_type": "stream",
					"text": "Downloading...\nFrom: https://drive.google.com/uc?id=1JTchX2BOBF7PmbQQZSVNzvdtWxbw6q2v&confirm=t\nTo: /home/jovyan/storage/fer2013.csv\n99%|████████████████████████████████████████▌| 298M/301M [00:01<00:00, 159MB/s]\n100%|█████████████████████████████████████████| 301M/301M [00:01<00:00, 153MB/s]\n"
				}
			],
			"source": [
				"!gdown \"https://drive.google.com/uc?id=1JTchX2BOBF7PmbQQZSVNzvdtWxbw6q2v&confirm=t\"\n"
			]
		},
		{
			"cell_type": "markdown",
			"metadata": {
				"id": "h04JDu-opSok"
			},
			"source": [
				"#**Read the Dataset**"
			]
		},
		{
			"cell_type": "code",
			"execution_count": 16,
			"metadata": {
				"id": "nj9H92WKpSGD",
				"runTime": {
					"start": 1681208204748,
					"end": 1681208207119,
					"hasRun": true,
					"output_error": false,
					"time": 2.4
				}
			},
			"outputs": [],
			"source": [
				"data = pd.read_csv(\"/home/jovyan/storage/fer2013.csv\")"
			]
		},
		{
			"cell_type": "code",
			"execution_count": 24,
			"metadata": {
				"colab": {
					"base_uri": "https://localhost:8080/"
				},
				"id": "_VQWzm7UqLI7",
				"outputId": "38e7ed81-842b-489b-f43a-93a4a36f9f46",
				"runTime": {
					"start": 1681208207119,
					"end": 1681208207135,
					"hasRun": true,
					"output_error": false,
					"time": 0
				}
			},
			"outputs": [
				{
					"name": "stdout",
					"output_type": "stream",
					"text": "emotion                                             pixels     Usage\n0        0  70 80 82 72 58 58 60 63 54 58 60 48 89 115 121...  Training\n1        0  151 150 147 155 148 133 111 140 170 174 182 15...  Training\n2        2  231 212 156 164 174 138 161 173 182 200 106 38...  Training\n3        4  24 32 36 30 32 23 19 20 30 41 21 22 32 34 21 1...  Training\n4        6  4 0 0 0 0 0 0 0 0 0 0 0 3 15 23 28 48 50 58 84...  Training\n"
				}
			],
			"source": [
				"print(data.head())"
			]
		},
		{
			"cell_type": "code",
			"execution_count": 37,
			"metadata": {
				"colab": {
					"base_uri": "https://localhost:8080/"
				},
				"id": "uTz7TzMqrcZS",
				"outputId": "bb95cde0-ae5e-48f0-9d69-2bcea9820f21",
				"runTime": {
					"start": 1681208207135,
					"end": 1681208207364,
					"hasRun": true,
					"output_error": false,
					"time": 0.2
				}
			},
			"outputs": [
				{
					"name": "stdout",
					"output_type": "stream",
					"text": "(35887, 3)\n"
				}
			],
			"source": [
				"print(data.shape)"
			]
		},
		{
			"cell_type": "code",
			"execution_count": 25,
			"metadata": {
				"colab": {
					"base_uri": "https://localhost:8080/"
				},
				"id": "9hllDEqbqUCP",
				"outputId": "e952d74d-7906-4e66-c5c2-b2bb3f18d105",
				"runTime": {
					"start": 1681208207364,
					"end": 1681208207467,
					"hasRun": true,
					"output_error": false,
					"time": 0.1
				}
			},
			"outputs": [
				{
					"name": "stdout",
					"output_type": "stream",
					"text": "[0 2 4 6 3 5 1]\n"
				}
			],
			"source": [
				"print(data['emotion'].unique())"
			]
		},
		{
			"cell_type": "code",
			"execution_count": 0,
			"id": "260c7595",
			"metadata": {
				"runTime": {
					"start": 1681208207467,
					"end": 1681208207483,
					"hasRun": true,
					"output_error": false,
					"time": 0
				}
			},
			"outputs": [
				{
					"name": "stdout",
					"output_type": "stream",
					"text": "Training       28709\nPublicTest      3589\nPrivateTest     3589\nName: Usage, dtype: int64\n"
				}
			],
			"source": [
				"print(data['Usage'].value_counts())\n"
			]
		},
		{
			"cell_type": "markdown",
			"metadata": {
				"id": "10vVAPo-pbnQ"
			},
			"source": [
				"#**Preprocessing the Dataset**"
			]
		},
		{
			"cell_type": "code",
			"execution_count": 45,
			"metadata": {
				"id": "gyIV3UItpYdy",
				"runTime": {
					"start": 1681208207484,
					"end": 1681208218742,
					"hasRun": true,
					"output_error": false,
					"time": 11.3
				}
			},
			"outputs": [],
			"source": [
				"X_train,train_y,X_test,test_y=[],[],[],[]\n",
				"\n",
				"for index, row in data.iterrows():\n",
				"    val=row['pixels'].split(\" \")\n",
				"    try:\n",
				"        if 'Training' in row['Usage']:\n",
				"           X_train.append(np.array(val,'float32'))\n",
				"           train_y.append(row['emotion'])\n",
				"        elif 'PublicTest' in row['Usage']:\n",
				"           X_test.append(np.array(val,'float32'))\n",
				"           test_y.append(row['emotion'])\n",
				"    except:\n",
				"        print(f\"error occured at index :{index} and row:{row}\")"
			]
		},
		{
			"cell_type": "code",
			"execution_count": 46,
			"metadata": {
				"id": "S-kK-dQ9pqMt",
				"runTime": {
					"start": 1681208218742,
					"end": 1681208218848,
					"hasRun": true,
					"output_error": false,
					"time": 0.1
				}
			},
			"outputs": [],
			"source": [
				"X_train = np.array(X_train, 'float32')"
			]
		},
		{
			"cell_type": "code",
			"execution_count": 47,
			"metadata": {
				"id": "9W-rV-y6p8gf",
				"runTime": {
					"start": 1681208218848,
					"end": 1681208218889,
					"hasRun": true,
					"output_error": false,
					"time": 0
				}
			},
			"outputs": [],
			"source": [
				"train_y = np.array(train_y, 'float32')"
			]
		},
		{
			"cell_type": "code",
			"execution_count": 48,
			"metadata": {
				"id": "atkieS8pp_9l",
				"runTime": {
					"start": 1681208218889,
					"end": 1681208219101,
					"hasRun": true,
					"output_error": false,
					"time": 0.2
				}
			},
			"outputs": [],
			"source": [
				"X_test = np.array(X_test, 'float32')"
			]
		},
		{
			"cell_type": "code",
			"execution_count": 49,
			"metadata": {
				"id": "jNdFBEQfqDT9",
				"runTime": {
					"start": 1681208219101,
					"end": 1681208219168,
					"hasRun": true,
					"output_error": false,
					"time": 0.1
				}
			},
			"outputs": [],
			"source": [
				"test_y = np.array(test_y,'float32')"
			]
		},
		{
			"cell_type": "code",
			"execution_count": 0,
			"id": "cac12711",
			"metadata": {
				"runTime": {
					"start": 1681208219168,
					"end": 1681208219180,
					"hasRun": true,
					"output_error": false,
					"time": 0
				}
			},
			"outputs": [
				{
					"name": "stdout",
					"output_type": "stream",
					"text": "[0. 0. 2. 4. 6.]\n"
				}
			],
			"source": [
				"print(train_y[:5])"
			]
		},
		{
			"cell_type": "code",
			"execution_count": 50,
			"metadata": {
				"id": "idBMS18LqGqz",
				"runTime": {
					"start": 1681208219181,
					"end": 1681208219185,
					"hasRun": true,
					"output_error": false,
					"time": 0
				}
			},
			"outputs": [],
			"source": [
				"train_y = np_utils.to_categorical(train_y, num_classes=7)"
			]
		},
		{
			"cell_type": "code",
			"execution_count": 0,
			"id": "6230a8ad",
			"metadata": {
				"runTime": {
					"start": 1681208219185,
					"end": 1681208219191,
					"hasRun": true,
					"output_error": false,
					"time": 0
				}
			},
			"outputs": [
				{
					"name": "stdout",
					"output_type": "stream",
					"text": "[[1. 0. 0. 0. 0. 0. 0.]\n [1. 0. 0. 0. 0. 0. 0.]\n [0. 0. 1. 0. 0. 0. 0.]\n [0. 0. 0. 0. 1. 0. 0.]\n [0. 0. 0. 0. 0. 0. 1.]]\n"
				}
			],
			"source": [
				"print(train_y[:5])"
			]
		},
		{
			"cell_type": "code",
			"execution_count": 51,
			"metadata": {
				"id": "yLCe1OoMqlSl",
				"runTime": {
					"start": 1681208219191,
					"end": 1681208219197,
					"hasRun": true,
					"output_error": false,
					"time": 0
				}
			},
			"outputs": [],
			"source": [
				"test_y = np_utils.to_categorical(test_y, num_classes=7)"
			]
		},
		{
			"cell_type": "markdown",
			"metadata": {
				"id": "sD5_yZjuqsf0"
			},
			"source": [
				"#**Normalizing the Data Between 0 and 1**"
			]
		},
		{
			"cell_type": "code",
			"execution_count": 52,
			"metadata": {
				"id": "FhDmvxJbqpvI",
				"runTime": {
					"start": 1681208219197,
					"end": 1681208219201,
					"hasRun": true,
					"output_error": false,
					"time": 0
				}
			},
			"outputs": [],
			"source": [
				"X_train -= np.mean(X_train,axis=0)"
			]
		},
		{
			"cell_type": "code",
			"execution_count": 0,
			"id": "071cbb1b",
			"metadata": {
				"runTime": {
					"start": 1681208219201,
					"end": 1681208219206,
					"hasRun": true,
					"output_error": false,
					"time": 0
				}
			},
			"outputs": [
				{
					"name": "stdout",
					"output_type": "stream",
					"text": "[[-50.293465  -37.21244   -32.18994   ...  -6.67334    -4.4749374\n  -32.320496 ]\n [ 30.706535   32.78756    32.81006   ...  80.32666    69.52506\n   69.679504 ]\n [110.706535   94.78756    41.81006   ... -24.67334    -3.4749374\n   37.679504 ]\n [-96.293465  -85.21244   -78.18994   ...  29.32666    29.525063\n   27.679504 ]]\n"
				}
			],
			"source": [
				"print(X_train[:4])"
			]
		},
		{
			"cell_type": "code",
			"execution_count": 53,
			"metadata": {
				"id": "xF0gxvamq2Bo",
				"runTime": {
					"start": 1681208219206,
					"end": 1681208219294,
					"hasRun": true,
					"output_error": false,
					"time": 0.1
				}
			},
			"outputs": [],
			"source": [
				"X_train/=np.std(X_train, axis=0)"
			]
		},
		{
			"cell_type": "code",
			"execution_count": 0,
			"id": "0136130d",
			"metadata": {
				"runTime": {
					"start": 1681208219295,
					"end": 1681208219303,
					"hasRun": true,
					"output_error": false,
					"time": 0
				}
			},
			"outputs": [
				{
					"name": "stdout",
					"output_type": "stream",
					"text": "[[-0.6098866  -0.4592209  -0.40325198 ... -0.08629682 -0.0573744\n  -0.41127437]\n [ 0.37236458  0.40461555  0.41102034 ...  1.0387505   0.8913998\n   0.8866632 ]\n [ 1.3424892   1.1697278   0.52376574 ... -0.31906524 -0.04455312\n   0.47946712]\n [-1.1677083  -1.0515659  -0.97950625 ...  0.37924     0.3785489\n   0.35221833]]\n"
				}
			],
			"source": [
				"print(X_train[:4])"
			]
		},
		{
			"cell_type": "code",
			"execution_count": 54,
			"metadata": {
				"id": "eHngAHVfq-E6",
				"runTime": {
					"start": 1681208219303,
					"end": 1681208219306,
					"hasRun": true,
					"output_error": false,
					"time": 0
				}
			},
			"outputs": [],
			"source": [
				"X_test -= np.mean(X_test, axis=0)"
			]
		},
		{
			"cell_type": "code",
			"execution_count": 55,
			"metadata": {
				"id": "zqbNsNoYrCOH",
				"runTime": {
					"start": 1681208219306,
					"end": 1681208219316,
					"hasRun": true,
					"output_error": false,
					"time": 0
				}
			},
			"outputs": [],
			"source": [
				"X_test/=np.std(X_test, axis=0)"
			]
		},
		{
			"cell_type": "code",
			"execution_count": 0,
			"id": "6fa13aa6",
			"metadata": {
				"runTime": {
					"start": 1681208219316,
					"end": 1681208219335,
					"hasRun": true,
					"output_error": false,
					"time": 0
				}
			},
			"outputs": [
				{
					"name": "stdout",
					"output_type": "stream",
					"text": "[[ 1.6505896   1.7122597   1.774942   ... -0.9225547   0.18117245\n   0.80417955]\n [ 0.45219082  0.84190166  1.0658671  ...  0.73589116  0.6640275\n   0.5656745 ]\n [-0.6116937   0.02127829 -0.6688345  ... -0.33572    -0.35250947\n  -0.32558146]\n [ 1.0513902   1.0781417   1.5470252  ... -0.90979743 -0.41604304\n  -0.37579307]]\n"
				}
			],
			"source": [
				"print(X_test[:4])"
			]
		},
		{
			"cell_type": "code",
			"execution_count": 56,
			"metadata": {
				"colab": {
					"base_uri": "https://localhost:8080/"
				},
				"id": "j-QKjchLrFJ1",
				"outputId": "b2ffe48a-fcc2-4198-c4af-0023fe8f66b7",
				"runTime": {
					"start": 1681208219335,
					"end": 1681208219341,
					"hasRun": true,
					"output_error": false,
					"time": 0
				}
			},
			"outputs": [
				{
					"data": {
						"text/plain": "(28709, 2304)"
					},
					"metadata": {},
					"execution_count": 90,
					"output_type": "execute_result"
				}
			],
			"source": [
				"X_train.shape"
			]
		},
		{
			"cell_type": "code",
			"execution_count": 57,
			"metadata": {
				"colab": {
					"base_uri": "https://localhost:8080/"
				},
				"id": "A1PmjA4yrHbF",
				"outputId": "4573d311-d1b2-47ae-b5fd-5e724be3af3c",
				"runTime": {
					"start": 1681208219341,
					"end": 1681208219426,
					"hasRun": true,
					"output_error": false,
					"time": 0.1
				}
			},
			"outputs": [
				{
					"data": {
						"text/plain": "(3589, 2304)"
					},
					"metadata": {},
					"execution_count": 91,
					"output_type": "execute_result"
				}
			],
			"source": [
				"X_test.shape"
			]
		},
		{
			"cell_type": "code",
			"execution_count": 61,
			"metadata": {
				"id": "TPk1KAl_rIOD",
				"runTime": {
					"start": 1681208219426,
					"end": 1681208219430,
					"hasRun": true,
					"output_error": false,
					"time": 0
				}
			},
			"outputs": [],
			"source": [
				"X_train = X_train.reshape(X_train.shape[0], 48,48,1)"
			]
		},
		{
			"cell_type": "code",
			"execution_count": 62,
			"metadata": {
				"colab": {
					"base_uri": "https://localhost:8080/"
				},
				"id": "-v0N01LdrQui",
				"outputId": "8dcfbc28-f106-45c7-bd7c-2a0db311c932",
				"runTime": {
					"start": 1681208219430,
					"end": 1681208219435,
					"hasRun": true,
					"output_error": false,
					"time": 0
				}
			},
			"outputs": [
				{
					"name": "stdout",
					"output_type": "stream",
					"text": "(28709, 48, 48, 1)\n"
				}
			],
			"source": [
				"print(X_train.shape)"
			]
		},
		{
			"cell_type": "code",
			"execution_count": 63,
			"metadata": {
				"id": "omCjfO0prZVn",
				"runTime": {
					"start": 1681208219435,
					"end": 1681208219438,
					"hasRun": true,
					"output_error": false,
					"time": 0
				}
			},
			"outputs": [],
			"source": [
				"X_test = X_test.reshape(X_test.shape[0], 48,48,1)"
			]
		},
		{
			"cell_type": "code",
			"execution_count": 64,
			"metadata": {
				"colab": {
					"base_uri": "https://localhost:8080/"
				},
				"id": "0nZVyY7Krlq-",
				"outputId": "47472a1d-00a2-4cef-db47-38b076b78d4b",
				"runTime": {
					"start": 1681208219438,
					"end": 1681208219444,
					"hasRun": true,
					"output_error": false,
					"time": 0
				}
			},
			"outputs": [
				{
					"name": "stdout",
					"output_type": "stream",
					"text": "(3589, 48, 48, 1)\n"
				}
			],
			"source": [
				"print(X_test.shape)"
			]
		},
		{
			"cell_type": "markdown",
			"metadata": {
				"id": "OUUEOITfsUc4"
			},
			"source": [
				"#**Designing a Convolutional Neural Network Model**"
			]
		},
		{
			"cell_type": "code",
			"execution_count": 68,
			"metadata": {
				"id": "c7X-I7HLrpzY",
				"runTime": {
					"start": 1681208219444,
					"end": 1681208219455,
					"hasRun": true,
					"output_error": false,
					"time": 0
				}
			},
			"outputs": [],
			"source": [
				"#1st convolution layer\n",
				"model = Sequential()\n",
				"\n",
				"model.add(Conv2D(64, kernel_size=(3, 3), activation='relu', input_shape=(X_train.shape[1:])))\n",
				"model.add(Conv2D(64,kernel_size= (3, 3), activation='relu'))\n",
				"# model.add(BatchNormalization())\n",
				"model.add(MaxPooling2D(pool_size=(2,2), strides=(2, 2)))\n",
				"model.add(Dropout(0.5))\n",
				"\n",
				"#2nd convolution layer\n",
				"model.add(Conv2D(64, (3, 3), activation='relu'))\n",
				"model.add(Conv2D(64, (3, 3), activation='relu'))\n",
				"# model.add(BatchNormalization())\n",
				"model.add(MaxPooling2D(pool_size=(2,2), strides=(2, 2)))\n",
				"model.add(Dropout(0.5))\n",
				"\n",
				"#3rd convolution layer\n",
				"model.add(Conv2D(128, (3, 3), activation='relu'))\n",
				"model.add(Conv2D(128, (3, 3), activation='relu'))\n",
				"# model.add(BatchNormalization())\n",
				"model.add(MaxPooling2D(pool_size=(2,2), strides=(2, 2)))\n",
				"\n",
				"model.add(Flatten())\n",
				"\n",
				"#fully connected neural networks\n",
				"model.add(Dense(1024, activation='relu'))\n",
				"model.add(Dropout(0.2))\n",
				"model.add(Dense(1024, activation='relu'))\n",
				"model.add(Dropout(0.2))\n",
				"\n",
				"model.add(Dense(7, activation='softmax'))"
			]
		},
		{
			"cell_type": "code",
			"execution_count": 69,
			"metadata": {
				"colab": {
					"base_uri": "https://localhost:8080/"
				},
				"id": "HsAv01-BsbBa",
				"outputId": "42fd3f77-c9bd-44b5-936d-66a9f9a24d3b",
				"runTime": {
					"start": 1681208219455,
					"end": 1681208219683,
					"hasRun": true,
					"output_error": false,
					"time": 0.2
				}
			},
			"outputs": [
				{
					"name": "stdout",
					"output_type": "stream",
					"text": "Model: \"sequential_1\"\n_________________________________________________________________\n Layer (type)                Output Shape              Param #   \n=================================================================\n conv2d_6 (Conv2D)           (None, 46, 46, 64)        640       \n                                                                 \n conv2d_7 (Conv2D)           (None, 44, 44, 64)        36928     \n                                                                 \n max_pooling2d_3 (MaxPooling  (None, 22, 22, 64)       0         \n 2D)                                                             \n                                                                 \n dropout_4 (Dropout)         (None, 22, 22, 64)        0         \n                                                                 \n conv2d_8 (Conv2D)           (None, 20, 20, 64)        36928     \n                                                                 \n conv2d_9 (Conv2D)           (None, 18, 18, 64)        36928     \n                                                                 \n max_pooling2d_4 (MaxPooling  (None, 9, 9, 64)         0         \n 2D)                                                             \n                                                                 \n dropout_5 (Dropout)         (None, 9, 9, 64)          0         \n                                                                 \n conv2d_10 (Conv2D)          (None, 7, 7, 128)         73856     \n                                                                 \n conv2d_11 (Conv2D)          (None, 5, 5, 128)         147584    \n                                                                 \n max_pooling2d_5 (MaxPooling  (None, 2, 2, 128)        0         \n 2D)                                                             \n                                                                 \n flatten_1 (Flatten)         (None, 512)               0         \n                                                                 \n dense_3 (Dense)             (None, 1024)              525312    \n                                                                 \n dropout_6 (Dropout)         (None, 1024)              0         \n                                                                 \n dense_4 (Dense)             (None, 1024)              1049600   \n                                                                 \n dropout_7 (Dropout)         (None, 1024)              0         \n                                                                 \n dense_5 (Dense)             (None, 7)                 7175      \n                                                                 \n=================================================================\nTotal params: 1,914,951\nTrainable params: 1,914,951\nNon-trainable params: 0\n_________________________________________________________________\n"
				}
			],
			"source": [
				"model.summary()"
			]
		},
		{
			"cell_type": "markdown",
			"metadata": {
				"id": "YYgKGSObsnr_"
			},
			"source": [
				"#**Compile the Model**"
			]
		},
		{
			"cell_type": "code",
			"execution_count": 70,
			"metadata": {
				"id": "J8pLbBs8smd-",
				"runTime": {
					"start": 1681208219683,
					"end": 1681208219685,
					"hasRun": true,
					"output_error": false,
					"time": 0
				}
			},
			"outputs": [],
			"source": [
				"model.compile(loss=categorical_crossentropy, optimizer=Adam(), metrics=['accuracy'])"
			]
		},
		{
			"cell_type": "code",
			"execution_count": 71,
			"metadata": {
				"colab": {
					"base_uri": "https://localhost:8080/"
				},
				"id": "CedKOT3msvLq",
				"outputId": "b58f40e9-984b-4f4b-fd23-fcd28d4008d9",
				"runTime": {
					"start": 1681208219685,
					"end": 1681209853551,
					"hasRun": true,
					"output_error": false,
					"time": 1633.9
				}
			},
			"outputs": [
				{
					"name": "stdout",
					"output_type": "stream",
					"text": "Epoch 1/200\n7/449 [..............................] - ETA: 7s - loss: 1.8733 - accuracy: 0.2076\n2023-04-11 10:17:00.211205: E tensorflow/core/grappler/optimizers/meta_optimizer.cc:954] layout failed: INVALID_ARGUMENT: Size of values 0 does not match size of permutation 4 @ fanin shape insequential_1/dropout_4/dropout/SelectV2-2-TransposeNHWCToNCHW-LayoutOptimizer\n449/449 [==============================] - 9s 19ms/step - loss: 1.7211 - accuracy: 0.2939 - val_loss: 1.5497 - val_accuracy: 0.3806\nEpoch 2/200\n449/449 [==============================] - 8s 18ms/step - loss: 1.5132 - accuracy: 0.4046 - val_loss: 1.4097 - val_accuracy: 0.4436\nEpoch 3/200\n449/449 [==============================] - 8s 18ms/step - loss: 1.3997 - accuracy: 0.4551 - val_loss: 1.3186 - val_accuracy: 0.4968\nEpoch 4/200\n449/449 [==============================] - 8s 18ms/step - loss: 1.3305 - accuracy: 0.4847 - val_loss: 1.2609 - val_accuracy: 0.5219\nEpoch 5/200\n449/449 [==============================] - 8s 18ms/step - loss: 1.2840 - accuracy: 0.5104 - val_loss: 1.2378 - val_accuracy: 0.5274\nEpoch 6/200\n449/449 [==============================] - 8s 18ms/step - loss: 1.2527 - accuracy: 0.5199 - val_loss: 1.2039 - val_accuracy: 0.5403\nEpoch 7/200\n449/449 [==============================] - 8s 18ms/step - loss: 1.2157 - accuracy: 0.5353 - val_loss: 1.2026 - val_accuracy: 0.5364\nEpoch 8/200\n449/449 [==============================] - 8s 18ms/step - loss: 1.1938 - accuracy: 0.5460 - val_loss: 1.1896 - val_accuracy: 0.5411\nEpoch 9/200\n449/449 [==============================] - 8s 18ms/step - loss: 1.1682 - accuracy: 0.5538 - val_loss: 1.1731 - val_accuracy: 0.5548\nEpoch 10/200\n449/449 [==============================] - 8s 18ms/step - loss: 1.1441 - accuracy: 0.5615 - val_loss: 1.1697 - val_accuracy: 0.5511\nEpoch 11/200\n449/449 [==============================] - 8s 18ms/step - loss: 1.1263 - accuracy: 0.5697 - val_loss: 1.1458 - val_accuracy: 0.5609\nEpoch 12/200\n449/449 [==============================] - 8s 18ms/step - loss: 1.1032 - accuracy: 0.5798 - val_loss: 1.1519 - val_accuracy: 0.5631\nEpoch 13/200\n449/449 [==============================] - 8s 18ms/step - loss: 1.0846 - accuracy: 0.5852 - val_loss: 1.1698 - val_accuracy: 0.5637\nEpoch 14/200\n449/449 [==============================] - 8s 19ms/step - loss: 1.0693 - accuracy: 0.5927 - val_loss: 1.1614 - val_accuracy: 0.5567\nEpoch 15/200\n449/449 [==============================] - 8s 18ms/step - loss: 1.0540 - accuracy: 0.5956 - val_loss: 1.1446 - val_accuracy: 0.5676\nEpoch 16/200\n449/449 [==============================] - 8s 18ms/step - loss: 1.0408 - accuracy: 0.6028 - val_loss: 1.1662 - val_accuracy: 0.5695\nEpoch 17/200\n449/449 [==============================] - 8s 18ms/step - loss: 1.0123 - accuracy: 0.6125 - val_loss: 1.1495 - val_accuracy: 0.5743\nEpoch 18/200\n449/449 [==============================] - 8s 18ms/step - loss: 0.9991 - accuracy: 0.6204 - val_loss: 1.1489 - val_accuracy: 0.5768\nEpoch 19/200\n449/449 [==============================] - 8s 18ms/step - loss: 0.9820 - accuracy: 0.6251 - val_loss: 1.1281 - val_accuracy: 0.5809\nEpoch 20/200\n449/449 [==============================] - 8s 18ms/step - loss: 0.9735 - accuracy: 0.6281 - val_loss: 1.1400 - val_accuracy: 0.5723\nEpoch 21/200\n449/449 [==============================] - 8s 18ms/step - loss: 0.9531 - accuracy: 0.6381 - val_loss: 1.1528 - val_accuracy: 0.5692\nEpoch 22/200\n449/449 [==============================] - 8s 18ms/step - loss: 0.9421 - accuracy: 0.6414 - val_loss: 1.1477 - val_accuracy: 0.5720\nEpoch 23/200\n449/449 [==============================] - 8s 18ms/step - loss: 0.9280 - accuracy: 0.6473 - val_loss: 1.1612 - val_accuracy: 0.5698\nEpoch 24/200\n449/449 [==============================] - 8s 18ms/step - loss: 0.9152 - accuracy: 0.6507 - val_loss: 1.1580 - val_accuracy: 0.5823\nEpoch 25/200\n449/449 [==============================] - 8s 18ms/step - loss: 0.8962 - accuracy: 0.6613 - val_loss: 1.1572 - val_accuracy: 0.5795\nEpoch 26/200\n449/449 [==============================] - 8s 18ms/step - loss: 0.8837 - accuracy: 0.6629 - val_loss: 1.1480 - val_accuracy: 0.5865\nEpoch 27/200\n449/449 [==============================] - 8s 18ms/step - loss: 0.8689 - accuracy: 0.6674 - val_loss: 1.1509 - val_accuracy: 0.5834\nEpoch 28/200\n449/449 [==============================] - 8s 18ms/step - loss: 0.8553 - accuracy: 0.6762 - val_loss: 1.1728 - val_accuracy: 0.5784\nEpoch 29/200\n449/449 [==============================] - 8s 18ms/step - loss: 0.8501 - accuracy: 0.6762 - val_loss: 1.1997 - val_accuracy: 0.5795\nEpoch 30/200\n449/449 [==============================] - 8s 18ms/step - loss: 0.8318 - accuracy: 0.6852 - val_loss: 1.1857 - val_accuracy: 0.5770\nEpoch 31/200\n449/449 [==============================] - 8s 18ms/step - loss: 0.8153 - accuracy: 0.6919 - val_loss: 1.2372 - val_accuracy: 0.5759\nEpoch 32/200\n449/449 [==============================] - 8s 18ms/step - loss: 0.8031 - accuracy: 0.6956 - val_loss: 1.2094 - val_accuracy: 0.5748\nEpoch 33/200\n449/449 [==============================] - 8s 18ms/step - loss: 0.8057 - accuracy: 0.6933 - val_loss: 1.2364 - val_accuracy: 0.5706\nEpoch 34/200\n449/449 [==============================] - 8s 18ms/step - loss: 0.7859 - accuracy: 0.7038 - val_loss: 1.2195 - val_accuracy: 0.5834\nEpoch 35/200\n449/449 [==============================] - 8s 18ms/step - loss: 0.7852 - accuracy: 0.7045 - val_loss: 1.2231 - val_accuracy: 0.5759\nEpoch 36/200\n449/449 [==============================] - 8s 18ms/step - loss: 0.7728 - accuracy: 0.7108 - val_loss: 1.2240 - val_accuracy: 0.5729\nEpoch 37/200\n449/449 [==============================] - 8s 18ms/step - loss: 0.7547 - accuracy: 0.7174 - val_loss: 1.2658 - val_accuracy: 0.5798\nEpoch 38/200\n449/449 [==============================] - 8s 18ms/step - loss: 0.7448 - accuracy: 0.7141 - val_loss: 1.2529 - val_accuracy: 0.5809\nEpoch 39/200\n449/449 [==============================] - 8s 18ms/step - loss: 0.7351 - accuracy: 0.7226 - val_loss: 1.2534 - val_accuracy: 0.5779\nEpoch 40/200\n449/449 [==============================] - 8s 18ms/step - loss: 0.7240 - accuracy: 0.7283 - val_loss: 1.2412 - val_accuracy: 0.5834\nEpoch 41/200\n449/449 [==============================] - 8s 18ms/step - loss: 0.7189 - accuracy: 0.7316 - val_loss: 1.2520 - val_accuracy: 0.5907\nEpoch 42/200\n449/449 [==============================] - 8s 18ms/step - loss: 0.7190 - accuracy: 0.7322 - val_loss: 1.2767 - val_accuracy: 0.5743\nEpoch 43/200\n449/449 [==============================] - 8s 18ms/step - loss: 0.7033 - accuracy: 0.7356 - val_loss: 1.2643 - val_accuracy: 0.5821\nEpoch 44/200\n449/449 [==============================] - 8s 18ms/step - loss: 0.6863 - accuracy: 0.7417 - val_loss: 1.2596 - val_accuracy: 0.5843\nEpoch 45/200\n449/449 [==============================] - 8s 18ms/step - loss: 0.6963 - accuracy: 0.7387 - val_loss: 1.3127 - val_accuracy: 0.5832\nEpoch 46/200\n449/449 [==============================] - 8s 18ms/step - loss: 0.6756 - accuracy: 0.7496 - val_loss: 1.2911 - val_accuracy: 0.5926\nEpoch 47/200\n449/449 [==============================] - 8s 18ms/step - loss: 0.6662 - accuracy: 0.7492 - val_loss: 1.3288 - val_accuracy: 0.5801\nEpoch 48/200\n449/449 [==============================] - 8s 18ms/step - loss: 0.6623 - accuracy: 0.7549 - val_loss: 1.3328 - val_accuracy: 0.5809\nEpoch 49/200\n449/449 [==============================] - 8s 18ms/step - loss: 0.6517 - accuracy: 0.7577 - val_loss: 1.3304 - val_accuracy: 0.5843\nEpoch 50/200\n449/449 [==============================] - 8s 18ms/step - loss: 0.6431 - accuracy: 0.7632 - val_loss: 1.3116 - val_accuracy: 0.5826\nEpoch 51/200\n449/449 [==============================] - 8s 18ms/step - loss: 0.6360 - accuracy: 0.7629 - val_loss: 1.3409 - val_accuracy: 0.5818\nEpoch 52/200\n449/449 [==============================] - 8s 18ms/step - loss: 0.6233 - accuracy: 0.7710 - val_loss: 1.3721 - val_accuracy: 0.5807\nEpoch 53/200\n449/449 [==============================] - 8s 18ms/step - loss: 0.6237 - accuracy: 0.7708 - val_loss: 1.3373 - val_accuracy: 0.5834\nEpoch 54/200\n449/449 [==============================] - 8s 18ms/step - loss: 0.6235 - accuracy: 0.7708 - val_loss: 1.3428 - val_accuracy: 0.5815\nEpoch 55/200\n449/449 [==============================] - 8s 18ms/step - loss: 0.5969 - accuracy: 0.7771 - val_loss: 1.4041 - val_accuracy: 0.5848\nEpoch 56/200\n449/449 [==============================] - 8s 18ms/step - loss: 0.6043 - accuracy: 0.7774 - val_loss: 1.3731 - val_accuracy: 0.5837\nEpoch 57/200\n449/449 [==============================] - 8s 18ms/step - loss: 0.6037 - accuracy: 0.7751 - val_loss: 1.3649 - val_accuracy: 0.5676\nEpoch 58/200\n449/449 [==============================] - 8s 18ms/step - loss: 0.5824 - accuracy: 0.7842 - val_loss: 1.3789 - val_accuracy: 0.5846\nEpoch 59/200\n449/449 [==============================] - 8s 18ms/step - loss: 0.5934 - accuracy: 0.7838 - val_loss: 1.4164 - val_accuracy: 0.5754\nEpoch 60/200\n449/449 [==============================] - 8s 18ms/step - loss: 0.5805 - accuracy: 0.7859 - val_loss: 1.3890 - val_accuracy: 0.5795\nEpoch 61/200\n449/449 [==============================] - 8s 18ms/step - loss: 0.5711 - accuracy: 0.7893 - val_loss: 1.4333 - val_accuracy: 0.5770\nEpoch 62/200\n449/449 [==============================] - 8s 18ms/step - loss: 0.5671 - accuracy: 0.7899 - val_loss: 1.4316 - val_accuracy: 0.5812\nEpoch 63/200\n449/449 [==============================] - 8s 18ms/step - loss: 0.5665 - accuracy: 0.7920 - val_loss: 1.4215 - val_accuracy: 0.5795\nEpoch 64/200\n449/449 [==============================] - 8s 18ms/step - loss: 0.5626 - accuracy: 0.7944 - val_loss: 1.4155 - val_accuracy: 0.5795\nEpoch 65/200\n449/449 [==============================] - 8s 18ms/step - loss: 0.5647 - accuracy: 0.7934 - val_loss: 1.4700 - val_accuracy: 0.5773\nEpoch 66/200\n449/449 [==============================] - 8s 18ms/step - loss: 0.5404 - accuracy: 0.8025 - val_loss: 1.4802 - val_accuracy: 0.5790\nEpoch 67/200\n449/449 [==============================] - 8s 18ms/step - loss: 0.5477 - accuracy: 0.7985 - val_loss: 1.4836 - val_accuracy: 0.5837\nEpoch 68/200\n449/449 [==============================] - 8s 18ms/step - loss: 0.5369 - accuracy: 0.8069 - val_loss: 1.5494 - val_accuracy: 0.5754\nEpoch 69/200\n449/449 [==============================] - 8s 18ms/step - loss: 0.5324 - accuracy: 0.8081 - val_loss: 1.4507 - val_accuracy: 0.5812\nEpoch 70/200\n449/449 [==============================] - 8s 18ms/step - loss: 0.5406 - accuracy: 0.8031 - val_loss: 1.4494 - val_accuracy: 0.5776\nEpoch 71/200\n449/449 [==============================] - 8s 18ms/step - loss: 0.5216 - accuracy: 0.8111 - val_loss: 1.5192 - val_accuracy: 0.5768\nEpoch 72/200\n449/449 [==============================] - 8s 18ms/step - loss: 0.5220 - accuracy: 0.8114 - val_loss: 1.5006 - val_accuracy: 0.5754\nEpoch 73/200\n449/449 [==============================] - 8s 18ms/step - loss: 0.5167 - accuracy: 0.8132 - val_loss: 1.4863 - val_accuracy: 0.5834\nEpoch 74/200\n449/449 [==============================] - 8s 18ms/step - loss: 0.5060 - accuracy: 0.8170 - val_loss: 1.5727 - val_accuracy: 0.5720\nEpoch 75/200\n449/449 [==============================] - 8s 19ms/step - loss: 0.5034 - accuracy: 0.8172 - val_loss: 1.5516 - val_accuracy: 0.5692\nEpoch 76/200\n449/449 [==============================] - 8s 19ms/step - loss: 0.4994 - accuracy: 0.8208 - val_loss: 1.5420 - val_accuracy: 0.5874\nEpoch 77/200\n449/449 [==============================] - 8s 19ms/step - loss: 0.4898 - accuracy: 0.8219 - val_loss: 1.5763 - val_accuracy: 0.5837\nEpoch 78/200\n449/449 [==============================] - 8s 19ms/step - loss: 0.4994 - accuracy: 0.8202 - val_loss: 1.5790 - val_accuracy: 0.5787\nEpoch 79/200\n449/449 [==============================] - 8s 19ms/step - loss: 0.4816 - accuracy: 0.8260 - val_loss: 1.5540 - val_accuracy: 0.5782\nEpoch 80/200\n449/449 [==============================] - 8s 19ms/step - loss: 0.4858 - accuracy: 0.8239 - val_loss: 1.6069 - val_accuracy: 0.5754\nEpoch 81/200\n449/449 [==============================] - 8s 19ms/step - loss: 0.4872 - accuracy: 0.8262 - val_loss: 1.5650 - val_accuracy: 0.5790\nEpoch 82/200\n449/449 [==============================] - 8s 19ms/step - loss: 0.4869 - accuracy: 0.8248 - val_loss: 1.5221 - val_accuracy: 0.5840\nEpoch 83/200\n449/449 [==============================] - 8s 18ms/step - loss: 0.4769 - accuracy: 0.8327 - val_loss: 1.5380 - val_accuracy: 0.5782\nEpoch 84/200\n449/449 [==============================] - 8s 18ms/step - loss: 0.4588 - accuracy: 0.8364 - val_loss: 1.6341 - val_accuracy: 0.5743\nEpoch 85/200\n449/449 [==============================] - 8s 18ms/step - loss: 0.4669 - accuracy: 0.8318 - val_loss: 1.5839 - val_accuracy: 0.5743\nEpoch 86/200\n449/449 [==============================] - 8s 18ms/step - loss: 0.4607 - accuracy: 0.8350 - val_loss: 1.5586 - val_accuracy: 0.5779\nEpoch 87/200\n449/449 [==============================] - 8s 18ms/step - loss: 0.4640 - accuracy: 0.8326 - val_loss: 1.5940 - val_accuracy: 0.5751\nEpoch 88/200\n449/449 [==============================] - 8s 18ms/step - loss: 0.4619 - accuracy: 0.8340 - val_loss: 1.5807 - val_accuracy: 0.5748\nEpoch 89/200\n449/449 [==============================] - 8s 18ms/step - loss: 0.4697 - accuracy: 0.8304 - val_loss: 1.5700 - val_accuracy: 0.5860\nEpoch 90/200\n449/449 [==============================] - 8s 18ms/step - loss: 0.4500 - accuracy: 0.8410 - val_loss: 1.6013 - val_accuracy: 0.5790\nEpoch 91/200\n449/449 [==============================] - 8s 18ms/step - loss: 0.4443 - accuracy: 0.8411 - val_loss: 1.5521 - val_accuracy: 0.5887\nEpoch 92/200\n449/449 [==============================] - 8s 18ms/step - loss: 0.4481 - accuracy: 0.8399 - val_loss: 1.5987 - val_accuracy: 0.5829\nEpoch 93/200\n449/449 [==============================] - 8s 18ms/step - loss: 0.4447 - accuracy: 0.8447 - val_loss: 1.5828 - val_accuracy: 0.5832\nEpoch 94/200\n449/449 [==============================] - 8s 18ms/step - loss: 0.4355 - accuracy: 0.8436 - val_loss: 1.5862 - val_accuracy: 0.5754\nEpoch 95/200\n449/449 [==============================] - 8s 18ms/step - loss: 0.4374 - accuracy: 0.8455 - val_loss: 1.5681 - val_accuracy: 0.5801\nEpoch 96/200\n449/449 [==============================] - 8s 18ms/step - loss: 0.4463 - accuracy: 0.8432 - val_loss: 1.5689 - val_accuracy: 0.5821\nEpoch 97/200\n449/449 [==============================] - 8s 18ms/step - loss: 0.4183 - accuracy: 0.8521 - val_loss: 1.6142 - val_accuracy: 0.5748\nEpoch 98/200\n449/449 [==============================] - 8s 18ms/step - loss: 0.4306 - accuracy: 0.8470 - val_loss: 1.6434 - val_accuracy: 0.5731\nEpoch 99/200\n449/449 [==============================] - 8s 18ms/step - loss: 0.4245 - accuracy: 0.8486 - val_loss: 1.6312 - val_accuracy: 0.5768\nEpoch 100/200\n449/449 [==============================] - 8s 18ms/step - loss: 0.4221 - accuracy: 0.8496 - val_loss: 1.7236 - val_accuracy: 0.5737\nEpoch 101/200\n449/449 [==============================] - 8s 18ms/step - loss: 0.4156 - accuracy: 0.8531 - val_loss: 1.6180 - val_accuracy: 0.5748\nEpoch 102/200\n449/449 [==============================] - 8s 18ms/step - loss: 0.4079 - accuracy: 0.8564 - val_loss: 1.7213 - val_accuracy: 0.5782\nEpoch 103/200\n449/449 [==============================] - 8s 18ms/step - loss: 0.4321 - accuracy: 0.8480 - val_loss: 1.5789 - val_accuracy: 0.5731\nEpoch 104/200\n449/449 [==============================] - 8s 18ms/step - loss: 0.4153 - accuracy: 0.8539 - val_loss: 1.6388 - val_accuracy: 0.5729\nEpoch 105/200\n449/449 [==============================] - 8s 18ms/step - loss: 0.4057 - accuracy: 0.8568 - val_loss: 1.6175 - val_accuracy: 0.5868\nEpoch 106/200\n449/449 [==============================] - 8s 18ms/step - loss: 0.4317 - accuracy: 0.8471 - val_loss: 1.6801 - val_accuracy: 0.5754\nEpoch 107/200\n449/449 [==============================] - 8s 18ms/step - loss: 0.4243 - accuracy: 0.8522 - val_loss: 1.6481 - val_accuracy: 0.5743\nEpoch 108/200\n449/449 [==============================] - 8s 18ms/step - loss: 0.4030 - accuracy: 0.8577 - val_loss: 1.6632 - val_accuracy: 0.5865\nEpoch 109/200\n449/449 [==============================] - 8s 18ms/step - loss: 0.3930 - accuracy: 0.8624 - val_loss: 1.6904 - val_accuracy: 0.5854\nEpoch 110/200\n449/449 [==============================] - 8s 18ms/step - loss: 0.4104 - accuracy: 0.8581 - val_loss: 1.6767 - val_accuracy: 0.5848\nEpoch 111/200\n449/449 [==============================] - 8s 18ms/step - loss: 0.3974 - accuracy: 0.8601 - val_loss: 1.7179 - val_accuracy: 0.5854\nEpoch 112/200\n449/449 [==============================] - 8s 18ms/step - loss: 0.3965 - accuracy: 0.8616 - val_loss: 1.6253 - val_accuracy: 0.5801\nEpoch 113/200\n449/449 [==============================] - 8s 18ms/step - loss: 0.3993 - accuracy: 0.8605 - val_loss: 1.6889 - val_accuracy: 0.5759\nEpoch 114/200\n449/449 [==============================] - 8s 18ms/step - loss: 0.3982 - accuracy: 0.8607 - val_loss: 1.7117 - val_accuracy: 0.5826\nEpoch 115/200\n449/449 [==============================] - 8s 18ms/step - loss: 0.3960 - accuracy: 0.8606 - val_loss: 1.7037 - val_accuracy: 0.5812\nEpoch 116/200\n449/449 [==============================] - 8s 18ms/step - loss: 0.3904 - accuracy: 0.8651 - val_loss: 1.7118 - val_accuracy: 0.5659\nEpoch 117/200\n449/449 [==============================] - 8s 18ms/step - loss: 0.3961 - accuracy: 0.8606 - val_loss: 1.6687 - val_accuracy: 0.5762\nEpoch 118/200\n449/449 [==============================] - 8s 18ms/step - loss: 0.3842 - accuracy: 0.8638 - val_loss: 1.6750 - val_accuracy: 0.5779\nEpoch 119/200\n449/449 [==============================] - 8s 18ms/step - loss: 0.3818 - accuracy: 0.8664 - val_loss: 1.7504 - val_accuracy: 0.5770\nEpoch 120/200\n449/449 [==============================] - 8s 18ms/step - loss: 0.3836 - accuracy: 0.8662 - val_loss: 1.7127 - val_accuracy: 0.5815\nEpoch 121/200\n449/449 [==============================] - 8s 18ms/step - loss: 0.3868 - accuracy: 0.8662 - val_loss: 1.6924 - val_accuracy: 0.5782\nEpoch 122/200\n449/449 [==============================] - 8s 18ms/step - loss: 0.3712 - accuracy: 0.8717 - val_loss: 1.7101 - val_accuracy: 0.5737\nEpoch 123/200\n449/449 [==============================] - 8s 18ms/step - loss: 0.3810 - accuracy: 0.8686 - val_loss: 1.7522 - val_accuracy: 0.5773\nEpoch 124/200\n449/449 [==============================] - 8s 18ms/step - loss: 0.3778 - accuracy: 0.8671 - val_loss: 1.7053 - val_accuracy: 0.5826\nEpoch 125/200\n449/449 [==============================] - 8s 18ms/step - loss: 0.3826 - accuracy: 0.8676 - val_loss: 1.6744 - val_accuracy: 0.5795\nEpoch 126/200\n449/449 [==============================] - 8s 18ms/step - loss: 0.3619 - accuracy: 0.8742 - val_loss: 1.6845 - val_accuracy: 0.5776\nEpoch 127/200\n449/449 [==============================] - 8s 18ms/step - loss: 0.3718 - accuracy: 0.8721 - val_loss: 1.7449 - val_accuracy: 0.5759\nEpoch 128/200\n449/449 [==============================] - 8s 18ms/step - loss: 0.3741 - accuracy: 0.8700 - val_loss: 1.7528 - val_accuracy: 0.5734\nEpoch 129/200\n449/449 [==============================] - 8s 18ms/step - loss: 0.3672 - accuracy: 0.8718 - val_loss: 1.6989 - val_accuracy: 0.5734\nEpoch 130/200\n449/449 [==============================] - 8s 18ms/step - loss: 0.3624 - accuracy: 0.8763 - val_loss: 1.6942 - val_accuracy: 0.5762\nEpoch 131/200\n449/449 [==============================] - 8s 18ms/step - loss: 0.3680 - accuracy: 0.8698 - val_loss: 1.8507 - val_accuracy: 0.5743\nEpoch 132/200\n449/449 [==============================] - 8s 18ms/step - loss: 0.3621 - accuracy: 0.8758 - val_loss: 1.6843 - val_accuracy: 0.5717\nEpoch 133/200\n449/449 [==============================] - 8s 18ms/step - loss: 0.3732 - accuracy: 0.8713 - val_loss: 1.7334 - val_accuracy: 0.5854\nEpoch 134/200\n449/449 [==============================] - 8s 18ms/step - loss: 0.3685 - accuracy: 0.8750 - val_loss: 1.7135 - val_accuracy: 0.5812\nEpoch 135/200\n449/449 [==============================] - 8s 18ms/step - loss: 0.3638 - accuracy: 0.8745 - val_loss: 1.8115 - val_accuracy: 0.5773\nEpoch 136/200\n449/449 [==============================] - 8s 18ms/step - loss: 0.3533 - accuracy: 0.8776 - val_loss: 1.7591 - val_accuracy: 0.5737\nEpoch 137/200\n449/449 [==============================] - 8s 18ms/step - loss: 0.3537 - accuracy: 0.8768 - val_loss: 1.8036 - val_accuracy: 0.5843\nEpoch 138/200\n449/449 [==============================] - 8s 18ms/step - loss: 0.3622 - accuracy: 0.8783 - val_loss: 1.6797 - val_accuracy: 0.5879\nEpoch 139/200\n449/449 [==============================] - 8s 18ms/step - loss: 0.3541 - accuracy: 0.8780 - val_loss: 1.7440 - val_accuracy: 0.5759\nEpoch 140/200\n449/449 [==============================] - 8s 18ms/step - loss: 0.3481 - accuracy: 0.8807 - val_loss: 1.8539 - val_accuracy: 0.5787\nEpoch 141/200\n449/449 [==============================] - 8s 18ms/step - loss: 0.3593 - accuracy: 0.8776 - val_loss: 1.8292 - val_accuracy: 0.5843\nEpoch 142/200\n449/449 [==============================] - 8s 18ms/step - loss: 0.3589 - accuracy: 0.8763 - val_loss: 1.6750 - val_accuracy: 0.5885\nEpoch 143/200\n449/449 [==============================] - 8s 18ms/step - loss: 0.3480 - accuracy: 0.8826 - val_loss: 1.7268 - val_accuracy: 0.5776\nEpoch 144/200\n449/449 [==============================] - 8s 18ms/step - loss: 0.3562 - accuracy: 0.8777 - val_loss: 1.7414 - val_accuracy: 0.5670\nEpoch 145/200\n449/449 [==============================] - 8s 18ms/step - loss: 0.3555 - accuracy: 0.8791 - val_loss: 1.7896 - val_accuracy: 0.5673\nEpoch 146/200\n449/449 [==============================] - 8s 18ms/step - loss: 0.3413 - accuracy: 0.8825 - val_loss: 1.8031 - val_accuracy: 0.5740\nEpoch 147/200\n449/449 [==============================] - 8s 18ms/step - loss: 0.3448 - accuracy: 0.8825 - val_loss: 1.7618 - val_accuracy: 0.5768\nEpoch 148/200\n449/449 [==============================] - 8s 18ms/step - loss: 0.3311 - accuracy: 0.8848 - val_loss: 1.7992 - val_accuracy: 0.5818\nEpoch 149/200\n449/449 [==============================] - 8s 18ms/step - loss: 0.3323 - accuracy: 0.8862 - val_loss: 1.7973 - val_accuracy: 0.5754\nEpoch 150/200\n449/449 [==============================] - 8s 18ms/step - loss: 0.3460 - accuracy: 0.8808 - val_loss: 1.7798 - val_accuracy: 0.5843\nEpoch 151/200\n449/449 [==============================] - 8s 18ms/step - loss: 0.3491 - accuracy: 0.8815 - val_loss: 1.7646 - val_accuracy: 0.5748\nEpoch 152/200\n449/449 [==============================] - 8s 18ms/step - loss: 0.3407 - accuracy: 0.8824 - val_loss: 1.8002 - val_accuracy: 0.5793\nEpoch 153/200\n449/449 [==============================] - 8s 18ms/step - loss: 0.3502 - accuracy: 0.8840 - val_loss: 1.7793 - val_accuracy: 0.5759\nEpoch 154/200\n449/449 [==============================] - 8s 18ms/step - loss: 0.3350 - accuracy: 0.8856 - val_loss: 1.8053 - val_accuracy: 0.5690\nEpoch 155/200\n449/449 [==============================] - 8s 18ms/step - loss: 0.3462 - accuracy: 0.8822 - val_loss: 1.8244 - val_accuracy: 0.5737\nEpoch 156/200\n449/449 [==============================] - 8s 18ms/step - loss: 0.3350 - accuracy: 0.8847 - val_loss: 1.8017 - val_accuracy: 0.5740\nEpoch 157/200\n449/449 [==============================] - 8s 18ms/step - loss: 0.3341 - accuracy: 0.8880 - val_loss: 1.8821 - val_accuracy: 0.5751\nEpoch 158/200\n449/449 [==============================] - 8s 18ms/step - loss: 0.3404 - accuracy: 0.8864 - val_loss: 1.8517 - val_accuracy: 0.5768\nEpoch 159/200\n449/449 [==============================] - 8s 18ms/step - loss: 0.3255 - accuracy: 0.8889 - val_loss: 1.8954 - val_accuracy: 0.5773\nEpoch 160/200\n449/449 [==============================] - 8s 18ms/step - loss: 0.3464 - accuracy: 0.8828 - val_loss: 1.8472 - val_accuracy: 0.5857\nEpoch 161/200\n449/449 [==============================] - 8s 18ms/step - loss: 0.3276 - accuracy: 0.8896 - val_loss: 1.7540 - val_accuracy: 0.5862\nEpoch 162/200\n449/449 [==============================] - 8s 18ms/step - loss: 0.3215 - accuracy: 0.8922 - val_loss: 1.9260 - val_accuracy: 0.5740\nEpoch 163/200\n449/449 [==============================] - 8s 18ms/step - loss: 0.3176 - accuracy: 0.8920 - val_loss: 1.8820 - val_accuracy: 0.5809\nEpoch 164/200\n449/449 [==============================] - 8s 18ms/step - loss: 0.3320 - accuracy: 0.8875 - val_loss: 1.7903 - val_accuracy: 0.5784\nEpoch 165/200\n449/449 [==============================] - 8s 19ms/step - loss: 0.3168 - accuracy: 0.8927 - val_loss: 1.8440 - val_accuracy: 0.5701\nEpoch 166/200\n449/449 [==============================] - 8s 19ms/step - loss: 0.3285 - accuracy: 0.8892 - val_loss: 1.7653 - val_accuracy: 0.5704\nEpoch 167/200\n449/449 [==============================] - 8s 19ms/step - loss: 0.3342 - accuracy: 0.8873 - val_loss: 1.8488 - val_accuracy: 0.5745\nEpoch 168/200\n449/449 [==============================] - 8s 19ms/step - loss: 0.3343 - accuracy: 0.8874 - val_loss: 1.8771 - val_accuracy: 0.5704\nEpoch 169/200\n449/449 [==============================] - 8s 19ms/step - loss: 0.3318 - accuracy: 0.8868 - val_loss: 1.8986 - val_accuracy: 0.5740\nEpoch 170/200\n449/449 [==============================] - 8s 19ms/step - loss: 0.3422 - accuracy: 0.8845 - val_loss: 1.8848 - val_accuracy: 0.5651\nEpoch 171/200\n449/449 [==============================] - 8s 19ms/step - loss: 0.3185 - accuracy: 0.8921 - val_loss: 1.9428 - val_accuracy: 0.5626\nEpoch 172/200\n449/449 [==============================] - 8s 19ms/step - loss: 0.3422 - accuracy: 0.8858 - val_loss: 1.8084 - val_accuracy: 0.5729\nEpoch 173/200\n449/449 [==============================] - 8s 19ms/step - loss: 0.3255 - accuracy: 0.8901 - val_loss: 1.8497 - val_accuracy: 0.5815\nEpoch 174/200\n449/449 [==============================] - 8s 19ms/step - loss: 0.3133 - accuracy: 0.8942 - val_loss: 1.9049 - val_accuracy: 0.5734\nEpoch 175/200\n449/449 [==============================] - 8s 19ms/step - loss: 0.3276 - accuracy: 0.8910 - val_loss: 1.9108 - val_accuracy: 0.5698\nEpoch 176/200\n449/449 [==============================] - 8s 19ms/step - loss: 0.3178 - accuracy: 0.8932 - val_loss: 1.8251 - val_accuracy: 0.5706\nEpoch 177/200\n449/449 [==============================] - 8s 19ms/step - loss: 0.3152 - accuracy: 0.8947 - val_loss: 1.8917 - val_accuracy: 0.5754\nEpoch 178/200\n449/449 [==============================] - 8s 19ms/step - loss: 0.3162 - accuracy: 0.8957 - val_loss: 1.9104 - val_accuracy: 0.5737\nEpoch 179/200\n449/449 [==============================] - 8s 19ms/step - loss: 0.3282 - accuracy: 0.8896 - val_loss: 1.7889 - val_accuracy: 0.5681\nEpoch 180/200\n449/449 [==============================] - 9s 19ms/step - loss: 0.3190 - accuracy: 0.8923 - val_loss: 1.8744 - val_accuracy: 0.5748\nEpoch 181/200\n449/449 [==============================] - 8s 19ms/step - loss: 0.3186 - accuracy: 0.8936 - val_loss: 1.9073 - val_accuracy: 0.5726\nEpoch 182/200\n449/449 [==============================] - 8s 19ms/step - loss: 0.3087 - accuracy: 0.8960 - val_loss: 2.0041 - val_accuracy: 0.5570\nEpoch 183/200\n449/449 [==============================] - 8s 19ms/step - loss: 0.3348 - accuracy: 0.8898 - val_loss: 1.9063 - val_accuracy: 0.5634\nEpoch 184/200\n449/449 [==============================] - 8s 19ms/step - loss: 0.3302 - accuracy: 0.8900 - val_loss: 1.8852 - val_accuracy: 0.5684\nEpoch 185/200\n449/449 [==============================] - 8s 19ms/step - loss: 0.3136 - accuracy: 0.8941 - val_loss: 1.9704 - val_accuracy: 0.5670\nEpoch 186/200\n449/449 [==============================] - 8s 19ms/step - loss: 0.3015 - accuracy: 0.8994 - val_loss: 1.8888 - val_accuracy: 0.5690\nEpoch 187/200\n449/449 [==============================] - 8s 19ms/step - loss: 0.3213 - accuracy: 0.8928 - val_loss: 1.8413 - val_accuracy: 0.5684\nEpoch 188/200\n449/449 [==============================] - 9s 19ms/step - loss: 0.3214 - accuracy: 0.8911 - val_loss: 1.8440 - val_accuracy: 0.5762\nEpoch 189/200\n449/449 [==============================] - 8s 19ms/step - loss: 0.2989 - accuracy: 0.8994 - val_loss: 1.9132 - val_accuracy: 0.5712\nEpoch 190/200\n449/449 [==============================] - 8s 19ms/step - loss: 0.3164 - accuracy: 0.8955 - val_loss: 1.8750 - val_accuracy: 0.5717\nEpoch 191/200\n449/449 [==============================] - 8s 19ms/step - loss: 0.3200 - accuracy: 0.8942 - val_loss: 1.9157 - val_accuracy: 0.5754\nEpoch 192/200\n449/449 [==============================] - 8s 19ms/step - loss: 0.3097 - accuracy: 0.8986 - val_loss: 1.9360 - val_accuracy: 0.5773\nEpoch 193/200\n449/449 [==============================] - 8s 19ms/step - loss: 0.3082 - accuracy: 0.8968 - val_loss: 1.9078 - val_accuracy: 0.5692\nEpoch 194/200\n449/449 [==============================] - 9s 19ms/step - loss: 0.3069 - accuracy: 0.8975 - val_loss: 1.9149 - val_accuracy: 0.5701\nEpoch 195/200\n449/449 [==============================] - 8s 19ms/step - loss: 0.3007 - accuracy: 0.8984 - val_loss: 2.0077 - val_accuracy: 0.5712\nEpoch 196/200\n449/449 [==============================] - 8s 19ms/step - loss: 0.3054 - accuracy: 0.8986 - val_loss: 1.9528 - val_accuracy: 0.5734\nEpoch 197/200\n449/449 [==============================] - 8s 19ms/step - loss: 0.3118 - accuracy: 0.8957 - val_loss: 1.8671 - val_accuracy: 0.5745\nEpoch 198/200\n449/449 [==============================] - 8s 19ms/step - loss: 0.2995 - accuracy: 0.9001 - val_loss: 1.9277 - val_accuracy: 0.5754\nEpoch 199/200\n449/449 [==============================] - 8s 19ms/step - loss: 0.3128 - accuracy: 0.8945 - val_loss: 1.9799 - val_accuracy: 0.5743\nEpoch 200/200\n449/449 [==============================] - 8s 19ms/step - loss: 0.3013 - accuracy: 0.9002 - val_loss: 1.9251 - val_accuracy: 0.5667\n"
				}
			],
			"source": [
				"history = model.fit(X_train, train_y, batch_size=64, epochs = 200, verbose = 1, validation_data=(X_test, test_y), shuffle=True)"
			]
		},
		{
			"cell_type": "markdown",
			"id": "6bd9d7cb",
			"metadata": {},
			"source": [
				"# **SAVING MODEL WEIGHTS**"
			]
		},
		{
			"cell_type": "code",
			"execution_count": 74,
			"metadata": {
				"id": "WxIy0pp6tIib",
				"runTime": {
					"start": 1681209971362,
					"end": 1681209971640,
					"hasRun": true,
					"output_error": false,
					"time": 0.3
				}
			},
			"outputs": [],
			"source": [
				"# serialize model structure to JSON\n",
				"model_json = model.to_json()\n",
				"with open(\"modelcomplete.json\", \"w\") as json_file:\n",
				"    json_file.write(model_json)\n"
			]
		},
		{
			"cell_type": "code",
			"execution_count": 75,
			"metadata": {
				"id": "l6pKRNQ0w75g",
				"runTime": {
					"start": 1681209971780,
					"end": 1681209972131,
					"hasRun": true,
					"output_error": false,
					"time": 0.4
				}
			},
			"outputs": [],
			"source": [
				"from tensorflow.keras.models import save_model\n",
				"save_model(model, \"modelcomplete.h5\")"
			]
		},
		{
			"cell_type": "markdown",
			"id": "0c925b31",
			"metadata": {},
			"source": [
				"# **ACCURACY AND LOSS PLOTS**"
			]
		},
		{
			"cell_type": "code",
			"execution_count": null,
			"metadata": {
				"id": "Kkq_YHum4N54",
				"runTime": {
					"start": 1681209975713,
					"end": 1681209976971,
					"hasRun": true,
					"output_error": false,
					"time": 1.3
				}
			},
			"outputs": [
				{
					"data": {
						"text/plain": "<Figure size 2000x1000 with 2 Axes>",
						"image/png": "[encoded data removed]"
					},
					"metadata": {},
					"output_type": "display_data"
				}
			],
			"source": [
				"# plot the evolution of Loss and Acuracy on the train and validation sets\n",
				"\n",
				"import matplotlib.pyplot as plt\n",
				"\n",
				"plt.figure(figsize=(20,10))\n",
				"plt.subplot(1, 2, 1)\n",
				"plt.suptitle('Optimizer : Adam', fontsize=10)\n",
				"plt.ylabel('Loss', fontsize=16)\n",
				"plt.plot(history.history['loss'], label='Training Loss')\n",
				"plt.plot(history.history['val_loss'], label='Validation Loss')\n",
				"plt.legend(loc='upper right')\n",
				"\n",
				"plt.subplot(1, 2, 2)\n",
				"plt.ylabel('Accuracy', fontsize=16)\n",
				"plt.plot(history.history['accuracy'], label='Training Accuracy')\n",
				"plt.plot(history.history['val_accuracy'], label='Validation Accuracy')\n",
				"plt.legend(loc='lower right')\n",
				"plt.show()"
			]
		},
		{
			"cell_type": "code",
			"execution_count": 0,
			"id": "996a05af",
			"metadata": {},
			"outputs": [],
			"source": []
		}
	],
	"metadata": {
		"accelerator": "GPU",
		"colab": {
			"provenance": []
		},
		"gpuClass": "standard",
		"kernelspec": {
			"display_name": "Python 3",
			"name": "python3"
		},
		"language_info": {
			"name": "python"
		}
	},
	"nbformat": 4,
	"nbformat_minor": 0
}